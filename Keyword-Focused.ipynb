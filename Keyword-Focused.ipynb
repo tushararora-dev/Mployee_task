{
 "cells": [
  {
   "cell_type": "code",
   "execution_count": 1,
   "id": "336bfc52",
   "metadata": {},
   "outputs": [
    {
     "name": "stderr",
     "output_type": "stream",
     "text": [
      "c:\\Users\\Danjin\\miniconda3\\envs\\pdftrans\\lib\\site-packages\\tqdm\\auto.py:21: TqdmWarning: IProgress not found. Please update jupyter and ipywidgets. See https://ipywidgets.readthedocs.io/en/stable/user_install.html\n",
      "  from .autonotebook import tqdm as notebook_tqdm\n"
     ]
    }
   ],
   "source": [
    "from huggingface_hub import InferenceClient\n",
    "import time"
   ]
  },
  {
   "cell_type": "code",
   "execution_count": 2,
   "id": "9db74d94",
   "metadata": {},
   "outputs": [
    {
     "name": "stdout",
     "output_type": "stream",
     "text": [
      "Hugging Face InferenceClient setup complete!\n",
      "Test result: Here are a few rewritten options:\n",
      "\n",
      "• Successfully managed and responded to emails for the team, ensuring timely and effective communication.\n",
      "• Coordinated and prioritized email correspondence for the team, maintaining a high level of productivity and customer satisfaction.\n",
      "• Effectively managed a high volume of email correspondence for the team, providing exceptional support and administrative services.\n",
      "• Provided exceptional email management and support to the team, ensuring seamless communication and collaboration.\n",
      "• Demonstrated exceptional organizational skills by managing email communications for the team, streamlining workflows and improving overall efficiency.\n",
      "\n",
      "These rewritten bullet points aim to make the original statement more impactful by:\n",
      "\n",
      "* Using action verbs like \"successfully,\" \"coordinated,\" \"prioritized,\" and \"effectively\"\n",
      "* Emphasizing the benefits of managing emails\n"
     ]
    }
   ],
   "source": [
    "import os\n",
    "from dotenv import load_dotenv\n",
    "from huggingface_hub import InferenceClient\n",
    "\n",
    "# Load environment variables from .env file\n",
    "load_dotenv()\n",
    "\n",
    "# Get Hugging Face token from environment\n",
    "HF_TOKEN = os.getenv(\"HF_TOKEN\")\n",
    "\n",
    "# Initialize client with Llama 3.1 model\n",
    "client = InferenceClient(\n",
    "    model=\"meta-llama/Meta-Llama-3.1-8B-Instruct\",\n",
    "    token=HF_TOKEN\n",
    ")\n",
    "\n",
    "def run_resume_rewriter(prompt: str) -> str:\n",
    "    \"\"\"Send prompt to model and get rewritten bullet point\"\"\"\n",
    "    try:\n",
    "        messages = [{\"role\": \"user\", \"content\": prompt}]\n",
    "        \n",
    "        response = client.chat_completion(\n",
    "            messages=messages,\n",
    "            max_tokens=150,\n",
    "            temperature=0.7\n",
    "        )\n",
    "        \n",
    "        if response and response.choices:\n",
    "            result = response.choices[0].message.content.strip()\n",
    "            \n",
    "            # Clean up response if it includes extra formatting\n",
    "            if \"rewritten bullet point:\" in result.lower():\n",
    "                return result.split(\":\")[-1].strip()\n",
    "            elif \"rewritten:\" in result.lower():\n",
    "                return result.split(\":\")[-1].strip()\n",
    "            \n",
    "            return result\n",
    "        \n",
    "        return \"[Error: No response received]\"\n",
    "    \n",
    "    except Exception as e:\n",
    "        return f\"[Error: {str(e)}]\"\n",
    "\n",
    "print(\"Hugging Face InferenceClient setup complete!\")\n",
    "\n",
    "# Test the connection\n",
    "test_prompt = \"Rewrite this bullet point to be stronger: • Managed emails for team.\"\n",
    "test_result = run_resume_rewriter(test_prompt)\n",
    "print(f\"Test result: {test_result}\")\n"
   ]
  },
  {
   "cell_type": "code",
   "execution_count": 3,
   "id": "d406f2c1",
   "metadata": {},
   "outputs": [
    {
     "name": "stdout",
     "output_type": "stream",
     "text": [
      "Loaded 6 bullet points:\n",
      "1. • Scheduled appointments, managed emails and calls for senior leadership.\n",
      "2. • Provided end-to-end event logistics and meeting support.\n",
      "3. • Familiarity with audit techniques, processes, and tools.\n",
      "4. • Proficiency in using GST portals for registration, payment, and return filing.\n",
      "5. • Extracted, cleaned & integrated multi-source datasets (Insurance Records, Customer Feedback); performed data profiling & executed sentiment analysis via Power Query to deliver customer-centric insights.\n",
      "6. • Designed & deployed dynamic dashboards using Bar, Line, Ribbon, Donut & Matrix visualizations; implemented Role-Based Security (RLS) & scheduled automated data refresh for real-time, secure reporting.\n"
     ]
    }
   ],
   "source": [
    "# CELL 3: Load Files\n",
    "def load_file(filepath):\n",
    "    with open(filepath, 'r', encoding='utf-8') as f:\n",
    "        return f.read().strip()\n",
    "\n",
    "# Load your files\n",
    "prompt_template = load_file(\"prompt/Keyword-Focused.txt\")\n",
    "bullet_content = load_file(\"bullets.txt\")\n",
    "\n",
    "# Split bullet points\n",
    "bullet_points = [line.strip() for line in bullet_content.split('\\n') if line.strip().startswith('•')]\n",
    "\n",
    "print(f\"Loaded {len(bullet_points)} bullet points:\")\n",
    "for i, bullet in enumerate(bullet_points, 1):\n",
    "    print(f\"{i}. {bullet}\")"
   ]
  },
  {
   "cell_type": "code",
   "execution_count": 4,
   "id": "910ae1c3",
   "metadata": {},
   "outputs": [
    {
     "name": "stdout",
     "output_type": "stream",
     "text": [
      "\n",
      "Processing bullet 1/6...\n",
      "Original: • Scheduled appointments, managed emails and calls for senior leadership.\n",
      "Rewritten: • Coordinated high-priority meetings, managed senior leadership correspondence, and fielded complex calls with exceptional communication and time management skills.\n",
      "--------------------------------------------------\n",
      "\n",
      "Processing bullet 2/6...\n",
      "Original: • Provided end-to-end event logistics and meeting support.\n",
      "Rewritten: - Coordinated high-profile events and meetings, ensuring seamless logistics and execution through strategic planning, vendor management, and timely stakeholder communication.\n",
      "--------------------------------------------------\n",
      "\n",
      "Processing bullet 3/6...\n",
      "Original: • Familiarity with audit techniques, processes, and tools.\n",
      "Rewritten: - • Utilized advanced audit techniques, leveraging industry-leading tools to optimize compliance and risk management processes.\n",
      "--------------------------------------------------\n",
      "\n",
      "Processing bullet 4/6...\n",
      "Original: • Proficiency in using GST portals for registration, payment, and return filing.\n",
      "Rewritten: • Successfully integrated and utilized GST portals to streamline tax registration, payment processing, and return filing, ensuring compliance and minimizing administrative burdens.\n",
      "--------------------------------------------------\n",
      "\n",
      "Processing bullet 5/6...\n",
      "Original: • Extracted, cleaned & integrated multi-source datasets (Insurance Records, Customer Feedback); performed data profiling & executed sentiment analysis via Power Query to deliver customer-centric insights.\n",
      "Rewritten: • Utilized data integration techniques to combine insurance records and customer feedback data, leveraging Power Query to execute sentiment analysis and deliver actionable customer-centric insights.\n",
      "--------------------------------------------------\n",
      "\n",
      "Processing bullet 6/6...\n",
      "Original: • Designed & deployed dynamic dashboards using Bar, Line, Ribbon, Donut & Matrix visualizations; implemented Role-Based Security (RLS) & scheduled automated data refresh for real-time, secure reporting.\n",
      "Rewritten: • Designed and developed scalable data visualizations using industry-standard chart types, implemented Role-Based Security (RLS) and scheduled automated data refresh to enable real-time, secure analytics for informed business decisions.\n",
      "--------------------------------------------------\n"
     ]
    }
   ],
   "source": [
    "# CELL 4: Process Bullet Points\n",
    "all_results = []\n",
    "\n",
    "for i, bullet in enumerate(bullet_points, 1):\n",
    "    print(f\"\\nProcessing bullet {i}/{len(bullet_points)}...\")\n",
    "    \n",
    "    # Replace placeholder with actual bullet\n",
    "    full_prompt = prompt_template.replace(\"{{bullet}}\", bullet.strip())\n",
    "    \n",
    "    print(f\"Original: {bullet}\")\n",
    "    \n",
    "    # Process with model\n",
    "    try:\n",
    "        generated_text = run_resume_rewriter(full_prompt)\n",
    "        \n",
    "        print(f\"Rewritten: {generated_text}\")\n",
    "        \n",
    "        all_results.append({\n",
    "            'original': bullet,\n",
    "            'rewritten': generated_text\n",
    "        })\n",
    "        \n",
    "        # Small delay to avoid rate limiting\n",
    "        time.sleep(2)\n",
    "        \n",
    "    except Exception as e:\n",
    "        print(f\"Error processing bullet {i}: {e}\")\n",
    "        all_results.append({\n",
    "            'original': bullet,\n",
    "            'rewritten': f\"Error: {e}\"\n",
    "        })\n",
    "    \n",
    "    print(\"-\" * 50)"
   ]
  },
  {
   "cell_type": "code",
   "execution_count": null,
   "id": "7e394c2f",
   "metadata": {},
   "outputs": [],
   "source": []
  },
  {
   "cell_type": "code",
   "execution_count": null,
   "id": "5fbb9ad9",
   "metadata": {},
   "outputs": [],
   "source": []
  },
  {
   "cell_type": "code",
   "execution_count": null,
   "id": "ebaec13a",
   "metadata": {},
   "outputs": [],
   "source": []
  }
 ],
 "metadata": {
  "kernelspec": {
   "display_name": "pdftrans",
   "language": "python",
   "name": "python3"
  },
  "language_info": {
   "codemirror_mode": {
    "name": "ipython",
    "version": 3
   },
   "file_extension": ".py",
   "mimetype": "text/x-python",
   "name": "python",
   "nbconvert_exporter": "python",
   "pygments_lexer": "ipython3",
   "version": "3.10.18"
  }
 },
 "nbformat": 4,
 "nbformat_minor": 5
}
